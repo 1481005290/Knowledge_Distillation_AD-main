{
 "cells": [
  {
   "cell_type": "code",
   "execution_count": 1,
   "metadata": {},
   "outputs": [
    {
     "data": {
      "text/plain": [
       "_StoreAction(option_strings=['--config'], dest='config', nargs=None, const=None, default='/lustre/home/acct-eedxw/eedxw-user1/njq/Knowledge_Distillation_AD-main/configs/config.yaml', type=<class 'str'>, choices=None, help='training configuration', metavar=None)"
      ]
     },
     "execution_count": 1,
     "metadata": {},
     "output_type": "execute_result"
    }
   ],
   "source": [
    "from argparse import ArgumentParser\n",
    "from utils.utils import get_config\n",
    "from dataloader import load_data, load_localization_data\n",
    "from test_functions import detection_test, localization_test\n",
    "from models.network import get_networks\n",
    "\n",
    "parser = ArgumentParser()\n",
    "parser.add_argument('--config', type=str, default='/lustre/home/acct-eedxw/eedxw-user1/njq/Knowledge_Distillation_AD-main/configs/config.yaml', help=\"training configuration\")\n",
    "\n"
   ]
  },
  {
   "cell_type": "code",
   "execution_count": 2,
   "metadata": {},
   "outputs": [],
   "source": [
    "def main():\n",
    "    args = parser.parse_args(args=[])\n",
    "    config = get_config(args.config)\n",
    "    vgg, model = get_networks(config, load_checkpoint=True)\n",
    "\n",
    "    # Localization test\n",
    "    if config['localization_test']:\n",
    "        train_loader,test_loader = load_data(config)\n",
    "        roc_auc = localization_test(model=model, vgg=vgg, test_dataloader=test_loader, ground_truth=None,\n",
    "                                    config=config)\n",
    "\n",
    "    # Detection test\n",
    "    else:\n",
    "        _, test_dataloader = load_data(config)\n",
    "        print('after load dataset')\n",
    "        roc_auc = detection_test(model=model, vgg=vgg, test_dataloader=test_dataloader, config=config)\n",
    "        print('after cal roc_auc')\n",
    "    last_checkpoint = config['last_checkpoint']\n",
    "    print(\"RocAUC after {} epoch:\".format(last_checkpoint), roc_auc)\n"
   ]
  },
  {
   "cell_type": "code",
   "execution_count": null,
   "metadata": {},
   "outputs": [
    {
     "name": "stderr",
     "output_type": "stream",
     "text": [
      "/lustre/home/acct-eedxw/eedxw-user1/njq/Knowledge_Distillation_AD-main/utils/utils.py:8: YAMLLoadWarning: calling yaml.load() without Loader=... is deprecated, as the default Loader is unsafe. Please read https://msg.pyyaml.org/load for full details.\n",
      "  return yaml.load(stream)\n"
     ]
    }
   ],
   "source": [
    "if __name__ == '__main__':\n",
    "    main()"
   ]
  },
  {
   "cell_type": "code",
   "execution_count": null,
   "metadata": {},
   "outputs": [],
   "source": [
    "\"/lustre/home/acct-eedxw/eedxw-user1/outputs/local_equal_net/AIOCT/checkpoints/Cloner_0_epoch_20.pth\"\n",
    "                                  './outputs/local_equal_net/AIOCT/checkpoints/Cloner_0_epoch_20.pth'\n",
    "\"/lustre/home/acct-eedxw/eedxw-user1/outputs/local_equal_net/AIOCT/checkpoints/Cloner_0_epoch_20.pth\"\n",
    "\"/lustre/home/acct-eedxw/eedxw-user1/outputs/local_equal_net/AIOCT/checkpoints/Cloner_0_epoch_20.pth\""
   ]
  }
 ],
 "metadata": {
  "kernelspec": {
   "display_name": "u",
   "language": "python",
   "name": "u"
  },
  "language_info": {
   "codemirror_mode": {
    "name": "ipython",
    "version": 3
   },
   "file_extension": ".py",
   "mimetype": "text/x-python",
   "name": "python",
   "nbconvert_exporter": "python",
   "pygments_lexer": "ipython3",
   "version": "3.8.5"
  }
 },
 "nbformat": 4,
 "nbformat_minor": 4
}
