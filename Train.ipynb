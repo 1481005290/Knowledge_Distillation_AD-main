{
 "cells": [
  {
   "cell_type": "code",
   "execution_count": 1,
   "metadata": {},
   "outputs": [
    {
     "data": {
      "text/plain": [
       "_StoreAction(option_strings=['--config'], dest='config', nargs=None, const=None, default='/lustre/home/acct-eedxw/eedxw-user1/njq/Knowledge_Distillation_AD-main/configs/config.yaml', type=<class 'str'>, choices=None, help='training configuration', metavar=None)"
      ]
     },
     "execution_count": 1,
     "metadata": {},
     "output_type": "execute_result"
    }
   ],
   "source": [
    "from argparse import ArgumentParser\n",
    "from dataloader import load_data, load_localization_data\n",
    "from test_functions import detection_test, localization_test\n",
    "from models.network import get_networks\n",
    "from utils.utils import *\n",
    "from dataloader import *\n",
    "from pathlib import Path\n",
    "from torch.autograd import Variable\n",
    "import pickle\n",
    "from test_functions import detection_test\n",
    "from loss_functions import *\n",
    "import matplotlib.pyplot as plt\n",
    "from tqdm import tqdm\n",
    "parser = ArgumentParser()\n",
    "parser.add_argument('--config', type=str, default='/lustre/home/acct-eedxw/eedxw-user1/njq/Knowledge_Distillation_AD-main/configs/config.yaml', help=\"training configuration\")\n"
   ]
  },
  {
   "cell_type": "code",
   "execution_count": 2,
   "metadata": {},
   "outputs": [],
   "source": [
    "def get_config(config):\n",
    "    with open(config, 'r') as stream:\n",
    "        return yaml.load(stream)\n",
    "\n",
    "def train(config):\n",
    "    direction_loss_only = config[\"direction_loss_only\"]\n",
    "    normal_class = config[\"normal_class\"]\n",
    "    learning_rate = float(config['learning_rate'])\n",
    "    num_epochs = config[\"num_epochs\"]\n",
    "    lamda = config['lamda']\n",
    "    continue_train = config['continue_train']\n",
    "    last_checkpoint = config['last_checkpoint']\n",
    "\n",
    "    checkpoint_path = \"./outputs/{}/{}/checkpoints/\".format(config['experiment_name'], config['dataset_name'])\n",
    "                                                                                                                                            \n",
    "    # create directory\n",
    "    Path(checkpoint_path).mkdir(parents=True, exist_ok=True)\n",
    "    print('have load dataset')\n",
    "    train_dataloader, test_dataloader = load_data(config)\n",
    "    if continue_train:\n",
    "        vgg, model = get_networks(config, load_checkpoint=True)\n",
    "    else:\n",
    "        vgg, model = get_networks(config)\n",
    "\n",
    "    # Criteria And Optimizers\n",
    "    if direction_loss_only:\n",
    "        criterion = DirectionOnlyLoss()\n",
    "    else:\n",
    "        criterion = MseDirectionLoss(lamda)\n",
    "    print('model have been download')\n",
    "    optimizer = torch.optim.Adam(model.parameters(), lr=learning_rate)\n",
    "    if continue_train:\n",
    "        optimizer.load_state_dict(\n",
    "            torch.load('{}Opt_{}_epoch_{}.pth'.format(checkpoint_path, normal_class, last_checkpoint)))\n",
    "\n",
    "    losses = []\n",
    "    roc_aucs = []\n",
    "    if continue_train:\n",
    "        with open('{}Auc_{}_epoch_{}.pickle'.format(checkpoint_path, normal_class, last_checkpoint), 'rb') as f:\n",
    "            roc_aucs = pickle.load(f)\n",
    "    print('start to train')\n",
    "    print('the size of the data set',train_dataloader.__len__())\n",
    "    for epoch in range(num_epochs + 1):\n",
    "        model.train()\n",
    "        epoch_loss = 0\n",
    "        num_img = 0\n",
    "        for data in tqdm(train_dataloader):\n",
    "            num_img += 1\n",
    "            X = data[0]\n",
    "            if X.shape[1] == 1:\n",
    "                X = X.repeat(1, 3, 1, 1)\n",
    "            X = Variable(X).cuda()\n",
    "            output_pred = model.forward(X)\n",
    "            output_real = vgg(X)\n",
    "            # print('calculate loss')\n",
    "            total_loss = criterion(output_pred, output_real)\n",
    "\n",
    "            # Add loss to the list\n",
    "            epoch_loss += total_loss.item()\n",
    "            losses.append(total_loss.item())\n",
    "#             print('start optimizer',num_img)\n",
    "            # Clear the previous gradients\n",
    "            optimizer.zero_grad()\n",
    "            # Compute gradients\n",
    "            total_loss.backward()\n",
    "            # Adjust weights\n",
    "            optimizer.step()\n",
    "#             print('the image train end',num_img)\n",
    "            with open(\"num.txt\",\"a\") as f:\n",
    "                f.write(str(num_img))\n",
    "        with open(\"loss.txt\",\"a\") as f:\n",
    "            f.write('epoch [{}/{}], loss:{:.4f}'.format(epoch + 1, num_epochs, epoch_loss))\n",
    "        print('epoch [{}/{}], loss:{:.4f}'.format(epoch + 1, num_epochs, epoch_loss))\n",
    "        # if epoch % 10 == 0:\n",
    "        roc_auc = detection_test(model, vgg, test_dataloader, config)\n",
    "        roc_aucs.append(roc_auc)\n",
    "        print(\"RocAUC at epoch {}:\".format(epoch), roc_auc)\n",
    "        with open(\"loss.txt\",\"a\") as f:\n",
    "            f.write(\"RocAUC at epoch {}_{}:\".format(epoch,roc_auc))\n",
    "        # if epoch % 50 == 0:\n",
    "        torch.save(model.state_dict(),\n",
    "                    '{}Cloner_{}_epoch_{}.pth'.format(checkpoint_path, normal_class, epoch))\n",
    "        print('Successfully save Cloner model to  :{}Opt_{}_epoch_{}.pth'.format(checkpoint_path, normal_class, epoch))\n",
    "        torch.save(optimizer.state_dict(),\n",
    "                    '{}Opt_{}_epoch_{}.pth'.format(checkpoint_path, normal_class, epoch))\n",
    "        print('Successfully save Opt model to   Successfully save mode to  : {}Opt_{}_epoch_{}.pth'.format(checkpoint_path, normal_class, epoch))\n",
    "        with open('{}Auc_{}_epoch_{}.pickle'.format(checkpoint_path, normal_class, epoch),\n",
    "                    'wb') as f:\n",
    "            pickle.dump(roc_aucs, f)"
   ]
  },
  {
   "cell_type": "code",
   "execution_count": null,
   "metadata": {
    "scrolled": false
   },
   "outputs": [
    {
     "name": "stdout",
     "output_type": "stream",
     "text": [
      "main\n",
      "after parser\n",
      "get_config\n",
      "have load dataset\n"
     ]
    },
    {
     "name": "stderr",
     "output_type": "stream",
     "text": [
      "/tmp/ipykernel_131557/1219602501.py:3: YAMLLoadWarning: calling yaml.load() without Loader=... is deprecated, as the default Loader is unsafe. Please read https://msg.pyyaml.org/load for full details.\n",
      "  return yaml.load(stream)\n"
     ]
    },
    {
     "name": "stdout",
     "output_type": "stream",
     "text": [
      "layer : 0 Conv2d(3, 16, kernel_size=(3, 3), stride=(1, 1), padding=(1, 1), bias=False)\n",
      "layer : 1 BatchNorm2d(16, eps=1e-05, momentum=0.1, affine=True, track_running_stats=True)\n",
      "layer : 2 ReLU(inplace=True)\n",
      "layer : 3 Conv2d(16, 16, kernel_size=(3, 3), stride=(1, 1), padding=(1, 1), bias=False)\n",
      "layer : 4 ReLU(inplace=True)\n",
      "layer : 5 MaxPool2d(kernel_size=2, stride=2, padding=0, dilation=1, ceil_mode=False)\n",
      "layer : 6 Conv2d(16, 16, kernel_size=(3, 3), stride=(1, 1), padding=(1, 1), bias=False)\n",
      "layer : 7 BatchNorm2d(16, eps=1e-05, momentum=0.1, affine=True, track_running_stats=True)\n",
      "layer : 8 ReLU(inplace=True)\n",
      "layer : 9 Conv2d(16, 128, kernel_size=(3, 3), stride=(1, 1), padding=(1, 1), bias=False)\n",
      "layer : 10 ReLU(inplace=True)\n",
      "layer : 11 MaxPool2d(kernel_size=2, stride=2, padding=0, dilation=1, ceil_mode=False)\n",
      "layer : 12 Conv2d(128, 16, kernel_size=(3, 3), stride=(1, 1), padding=(1, 1), bias=False)\n",
      "layer : 13 BatchNorm2d(16, eps=1e-05, momentum=0.1, affine=True, track_running_stats=True)\n",
      "layer : 14 ReLU(inplace=True)\n",
      "layer : 15 Conv2d(16, 16, kernel_size=(3, 3), stride=(1, 1), padding=(1, 1), bias=False)\n",
      "layer : 16 BatchNorm2d(16, eps=1e-05, momentum=0.1, affine=True, track_running_stats=True)\n",
      "layer : 17 ReLU(inplace=True)\n",
      "layer : 18 Conv2d(16, 256, kernel_size=(3, 3), stride=(1, 1), padding=(1, 1), bias=False)\n",
      "layer : 19 ReLU(inplace=True)\n",
      "layer : 20 MaxPool2d(kernel_size=2, stride=2, padding=0, dilation=1, ceil_mode=False)\n",
      "layer : 21 Conv2d(256, 16, kernel_size=(3, 3), stride=(1, 1), padding=(1, 1), bias=False)\n",
      "layer : 22 BatchNorm2d(16, eps=1e-05, momentum=0.1, affine=True, track_running_stats=True)\n",
      "layer : 23 ReLU(inplace=True)\n",
      "layer : 24 Conv2d(16, 16, kernel_size=(3, 3), stride=(1, 1), padding=(1, 1), bias=False)\n",
      "layer : 25 BatchNorm2d(16, eps=1e-05, momentum=0.1, affine=True, track_running_stats=True)\n",
      "layer : 26 ReLU(inplace=True)\n",
      "layer : 27 Conv2d(16, 512, kernel_size=(3, 3), stride=(1, 1), padding=(1, 1), bias=False)\n",
      "layer : 28 ReLU(inplace=True)\n",
      "layer : 29 MaxPool2d(kernel_size=2, stride=2, padding=0, dilation=1, ceil_mode=False)\n",
      "layer : 30 Conv2d(512, 16, kernel_size=(3, 3), stride=(1, 1), padding=(1, 1), bias=False)\n",
      "layer : 31 BatchNorm2d(16, eps=1e-05, momentum=0.1, affine=True, track_running_stats=True)\n",
      "layer : 32 ReLU(inplace=True)\n",
      "layer : 33 Conv2d(16, 16, kernel_size=(3, 3), stride=(1, 1), padding=(1, 1), bias=False)\n",
      "layer : 34 BatchNorm2d(16, eps=1e-05, momentum=0.1, affine=True, track_running_stats=True)\n",
      "layer : 35 ReLU(inplace=True)\n",
      "layer : 36 Conv2d(16, 512, kernel_size=(3, 3), stride=(1, 1), padding=(1, 1), bias=False)\n",
      "layer : 37 ReLU(inplace=True)\n",
      "layer : 38 MaxPool2d(kernel_size=2, stride=2, padding=0, dilation=1, ceil_mode=False)\n",
      "model have been download\n",
      "start to train\n",
      "the size of the data set 412\n"
     ]
    },
    {
     "name": "stderr",
     "output_type": "stream",
     "text": [
      "100%|██████████| 412/412 [11:52<00:00,  1.73s/it]\n"
     ]
    },
    {
     "name": "stdout",
     "output_type": "stream",
     "text": [
      "epoch [1/201], loss:291.5003\n",
      "RocAUC at epoch 0: 0.969\n",
      "Successfully save Cloner model to  :./outputs/new_task/retina/checkpoints/Opt_0_epoch_0.pth\n",
      "Successfully save Opt model to   Successfully save mode to  : ./outputs/new_task/retina/checkpoints/Opt_0_epoch_0.pth\n"
     ]
    },
    {
     "name": "stderr",
     "output_type": "stream",
     "text": [
      "100%|██████████| 412/412 [04:06<00:00,  1.67it/s]\n"
     ]
    },
    {
     "name": "stdout",
     "output_type": "stream",
     "text": [
      "epoch [2/201], loss:181.4154\n",
      "RocAUC at epoch 1: 0.966\n",
      "Successfully save Cloner model to  :./outputs/new_task/retina/checkpoints/Opt_0_epoch_1.pth\n",
      "Successfully save Opt model to   Successfully save mode to  : ./outputs/new_task/retina/checkpoints/Opt_0_epoch_1.pth\n"
     ]
    },
    {
     "name": "stderr",
     "output_type": "stream",
     "text": [
      "100%|██████████| 412/412 [02:25<00:00,  2.83it/s]\n"
     ]
    },
    {
     "name": "stdout",
     "output_type": "stream",
     "text": [
      "epoch [3/201], loss:163.5434\n",
      "RocAUC at epoch 2: 0.9609\n",
      "Successfully save Cloner model to  :./outputs/new_task/retina/checkpoints/Opt_0_epoch_2.pth\n",
      "Successfully save Opt model to   Successfully save mode to  : ./outputs/new_task/retina/checkpoints/Opt_0_epoch_2.pth\n"
     ]
    },
    {
     "name": "stderr",
     "output_type": "stream",
     "text": [
      "100%|██████████| 412/412 [02:31<00:00,  2.71it/s]\n"
     ]
    },
    {
     "name": "stdout",
     "output_type": "stream",
     "text": [
      "epoch [4/201], loss:153.8315\n",
      "RocAUC at epoch 3: 0.9671\n",
      "Successfully save Cloner model to  :./outputs/new_task/retina/checkpoints/Opt_0_epoch_3.pth\n",
      "Successfully save Opt model to   Successfully save mode to  : ./outputs/new_task/retina/checkpoints/Opt_0_epoch_3.pth\n"
     ]
    },
    {
     "name": "stderr",
     "output_type": "stream",
     "text": [
      "100%|██████████| 412/412 [02:25<00:00,  2.84it/s]\n"
     ]
    },
    {
     "name": "stdout",
     "output_type": "stream",
     "text": [
      "epoch [5/201], loss:146.6211\n",
      "RocAUC at epoch 4: 0.9548\n",
      "Successfully save Cloner model to  :./outputs/new_task/retina/checkpoints/Opt_0_epoch_4.pth\n",
      "Successfully save Opt model to   Successfully save mode to  : ./outputs/new_task/retina/checkpoints/Opt_0_epoch_4.pth\n"
     ]
    },
    {
     "name": "stderr",
     "output_type": "stream",
     "text": [
      "100%|██████████| 412/412 [02:26<00:00,  2.82it/s]\n"
     ]
    },
    {
     "name": "stdout",
     "output_type": "stream",
     "text": [
      "epoch [6/201], loss:141.1537\n",
      "RocAUC at epoch 5: 0.9666\n",
      "Successfully save Cloner model to  :./outputs/new_task/retina/checkpoints/Opt_0_epoch_5.pth\n",
      "Successfully save Opt model to   Successfully save mode to  : ./outputs/new_task/retina/checkpoints/Opt_0_epoch_5.pth\n"
     ]
    },
    {
     "name": "stderr",
     "output_type": "stream",
     "text": [
      "100%|██████████| 412/412 [02:32<00:00,  2.70it/s]\n"
     ]
    },
    {
     "name": "stdout",
     "output_type": "stream",
     "text": [
      "epoch [7/201], loss:136.5596\n",
      "RocAUC at epoch 6: 0.9672\n",
      "Successfully save Cloner model to  :./outputs/new_task/retina/checkpoints/Opt_0_epoch_6.pth\n",
      "Successfully save Opt model to   Successfully save mode to  : ./outputs/new_task/retina/checkpoints/Opt_0_epoch_6.pth\n"
     ]
    },
    {
     "name": "stderr",
     "output_type": "stream",
     "text": [
      "100%|██████████| 412/412 [03:24<00:00,  2.02it/s]\n"
     ]
    },
    {
     "name": "stdout",
     "output_type": "stream",
     "text": [
      "epoch [8/201], loss:132.7136\n",
      "RocAUC at epoch 7: 0.9685\n",
      "Successfully save Cloner model to  :./outputs/new_task/retina/checkpoints/Opt_0_epoch_7.pth\n",
      "Successfully save Opt model to   Successfully save mode to  : ./outputs/new_task/retina/checkpoints/Opt_0_epoch_7.pth\n"
     ]
    },
    {
     "name": "stderr",
     "output_type": "stream",
     "text": [
      "100%|██████████| 412/412 [02:27<00:00,  2.79it/s]\n"
     ]
    },
    {
     "name": "stdout",
     "output_type": "stream",
     "text": [
      "epoch [9/201], loss:129.5677\n",
      "RocAUC at epoch 8: 0.9675\n",
      "Successfully save Cloner model to  :./outputs/new_task/retina/checkpoints/Opt_0_epoch_8.pth\n",
      "Successfully save Opt model to   Successfully save mode to  : ./outputs/new_task/retina/checkpoints/Opt_0_epoch_8.pth\n"
     ]
    },
    {
     "name": "stderr",
     "output_type": "stream",
     "text": [
      "100%|██████████| 412/412 [02:24<00:00,  2.86it/s]\n"
     ]
    },
    {
     "name": "stdout",
     "output_type": "stream",
     "text": [
      "epoch [10/201], loss:126.9399\n",
      "RocAUC at epoch 9: 0.9687\n",
      "Successfully save Cloner model to  :./outputs/new_task/retina/checkpoints/Opt_0_epoch_9.pth\n",
      "Successfully save Opt model to   Successfully save mode to  : ./outputs/new_task/retina/checkpoints/Opt_0_epoch_9.pth\n"
     ]
    },
    {
     "name": "stderr",
     "output_type": "stream",
     "text": [
      "100%|██████████| 412/412 [02:26<00:00,  2.81it/s]\n"
     ]
    },
    {
     "name": "stdout",
     "output_type": "stream",
     "text": [
      "epoch [11/201], loss:124.6258\n",
      "RocAUC at epoch 10: 0.968\n",
      "Successfully save Cloner model to  :./outputs/new_task/retina/checkpoints/Opt_0_epoch_10.pth\n",
      "Successfully save Opt model to   Successfully save mode to  : ./outputs/new_task/retina/checkpoints/Opt_0_epoch_10.pth\n"
     ]
    },
    {
     "name": "stderr",
     "output_type": "stream",
     "text": [
      "100%|██████████| 412/412 [02:31<00:00,  2.71it/s]\n"
     ]
    },
    {
     "name": "stdout",
     "output_type": "stream",
     "text": [
      "epoch [12/201], loss:122.8697\n",
      "RocAUC at epoch 11: 0.9712\n",
      "Successfully save Cloner model to  :./outputs/new_task/retina/checkpoints/Opt_0_epoch_11.pth\n",
      "Successfully save Opt model to   Successfully save mode to  : ./outputs/new_task/retina/checkpoints/Opt_0_epoch_11.pth\n"
     ]
    },
    {
     "name": "stderr",
     "output_type": "stream",
     "text": [
      "100%|██████████| 412/412 [02:40<00:00,  2.57it/s]\n"
     ]
    },
    {
     "name": "stdout",
     "output_type": "stream",
     "text": [
      "epoch [13/201], loss:121.2384\n",
      "RocAUC at epoch 12: 0.9705\n",
      "Successfully save Cloner model to  :./outputs/new_task/retina/checkpoints/Opt_0_epoch_12.pth\n",
      "Successfully save Opt model to   Successfully save mode to  : ./outputs/new_task/retina/checkpoints/Opt_0_epoch_12.pth\n"
     ]
    },
    {
     "name": "stderr",
     "output_type": "stream",
     "text": [
      "100%|██████████| 412/412 [02:28<00:00,  2.77it/s]\n"
     ]
    },
    {
     "name": "stdout",
     "output_type": "stream",
     "text": [
      "epoch [14/201], loss:119.4901\n",
      "RocAUC at epoch 13: 0.9694\n",
      "Successfully save Cloner model to  :./outputs/new_task/retina/checkpoints/Opt_0_epoch_13.pth\n",
      "Successfully save Opt model to   Successfully save mode to  : ./outputs/new_task/retina/checkpoints/Opt_0_epoch_13.pth\n"
     ]
    },
    {
     "name": "stderr",
     "output_type": "stream",
     "text": [
      "100%|██████████| 412/412 [02:37<00:00,  2.61it/s]\n"
     ]
    },
    {
     "name": "stdout",
     "output_type": "stream",
     "text": [
      "epoch [15/201], loss:118.7250\n",
      "RocAUC at epoch 14: 0.9662\n",
      "Successfully save Cloner model to  :./outputs/new_task/retina/checkpoints/Opt_0_epoch_14.pth\n",
      "Successfully save Opt model to   Successfully save mode to  : ./outputs/new_task/retina/checkpoints/Opt_0_epoch_14.pth\n"
     ]
    },
    {
     "name": "stderr",
     "output_type": "stream",
     "text": [
      "100%|██████████| 412/412 [02:37<00:00,  2.62it/s]\n"
     ]
    },
    {
     "name": "stdout",
     "output_type": "stream",
     "text": [
      "epoch [16/201], loss:117.5202\n",
      "RocAUC at epoch 15: 0.9704\n",
      "Successfully save Cloner model to  :./outputs/new_task/retina/checkpoints/Opt_0_epoch_15.pth\n",
      "Successfully save Opt model to   Successfully save mode to  : ./outputs/new_task/retina/checkpoints/Opt_0_epoch_15.pth\n"
     ]
    },
    {
     "name": "stderr",
     "output_type": "stream",
     "text": [
      "100%|██████████| 412/412 [03:48<00:00,  1.81it/s]\n"
     ]
    },
    {
     "name": "stdout",
     "output_type": "stream",
     "text": [
      "epoch [17/201], loss:116.2560\n",
      "RocAUC at epoch 16: 0.9687\n",
      "Successfully save Cloner model to  :./outputs/new_task/retina/checkpoints/Opt_0_epoch_16.pth\n",
      "Successfully save Opt model to   Successfully save mode to  : ./outputs/new_task/retina/checkpoints/Opt_0_epoch_16.pth\n"
     ]
    },
    {
     "name": "stderr",
     "output_type": "stream",
     "text": [
      "100%|██████████| 412/412 [07:37<00:00,  1.11s/it]\n"
     ]
    },
    {
     "name": "stdout",
     "output_type": "stream",
     "text": [
      "epoch [18/201], loss:115.5299\n",
      "RocAUC at epoch 17: 0.9701\n",
      "Successfully save Cloner model to  :./outputs/new_task/retina/checkpoints/Opt_0_epoch_17.pth\n",
      "Successfully save Opt model to   Successfully save mode to  : ./outputs/new_task/retina/checkpoints/Opt_0_epoch_17.pth\n"
     ]
    },
    {
     "name": "stderr",
     "output_type": "stream",
     "text": [
      "100%|██████████| 412/412 [07:10<00:00,  1.04s/it]\n"
     ]
    },
    {
     "name": "stdout",
     "output_type": "stream",
     "text": [
      "epoch [19/201], loss:114.7869\n",
      "RocAUC at epoch 18: 0.9714\n",
      "Successfully save Cloner model to  :./outputs/new_task/retina/checkpoints/Opt_0_epoch_18.pth\n",
      "Successfully save Opt model to   Successfully save mode to  : ./outputs/new_task/retina/checkpoints/Opt_0_epoch_18.pth\n"
     ]
    },
    {
     "name": "stderr",
     "output_type": "stream",
     "text": [
      " 38%|███▊      | 157/412 [00:55<01:25,  2.97it/s]"
     ]
    }
   ],
   "source": [
    "def main():\n",
    "    args = parser.parse_args(args=[])\n",
    "    print('after parser')\n",
    "    config = get_config(args.config)\n",
    "    print('get_config')\n",
    "    train(config)\n",
    "\n",
    "\n",
    "if __name__ == '__main__':\n",
    "    print('main')\n",
    "    main()\n"
   ]
  },
  {
   "cell_type": "code",
   "execution_count": null,
   "metadata": {},
   "outputs": [],
   "source": []
  }
 ],
 "metadata": {
  "kernelspec": {
   "display_name": "u",
   "language": "python",
   "name": "u"
  },
  "language_info": {
   "codemirror_mode": {
    "name": "ipython",
    "version": 3
   },
   "file_extension": ".py",
   "mimetype": "text/x-python",
   "name": "python",
   "nbconvert_exporter": "python",
   "pygments_lexer": "ipython3",
   "version": "3.8.5"
  }
 },
 "nbformat": 4,
 "nbformat_minor": 4
}
