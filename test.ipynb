{
 "cells": [
  {
   "cell_type": "code",
   "execution_count": 4,
   "metadata": {},
   "outputs": [
    {
     "data": {
      "text/plain": [
       "_StoreAction(option_strings=['--config'], dest='config', nargs=None, const=None, default='/lustre/home/acct-eedxw/eedxw-user1/njq/Knowledge_Distillation_AD-main/configs/config.yaml', type=<class 'str'>, choices=None, help='training configuration', metavar=None)"
      ]
     },
     "execution_count": 4,
     "metadata": {},
     "output_type": "execute_result"
    }
   ],
   "source": [
    "from argparse import ArgumentParser\n",
    "from utils.utils import get_config\n",
    "from dataloader import load_data, load_localization_data,load_retina,load_aioct\n",
    "from test_functions import detection_test, localization_test\n",
    "from models.network import get_networks\n",
    "\n",
    "parser = ArgumentParser()\n",
    "parser.add_argument('--config', type=str, default='/lustre/home/acct-eedxw/eedxw-user1/njq/Knowledge_Distillation_AD-main/configs/config.yaml', help=\"training configuration\")\n",
    "\n"
   ]
  },
  {
   "cell_type": "code",
   "execution_count": 5,
   "metadata": {},
   "outputs": [],
   "source": [
    "def main():\n",
    "    args = parser.parse_args(args=[])\n",
    "    config = get_config(args.config)\n",
    "    vgg, model = get_networks(config, load_checkpoint=True)\n",
    "\n",
    "    # Localization test\n",
    "    if config['localization_test']:\n",
    "        train_loader,test_loader = load_data(config)\n",
    "        roc_auc = localization_test(model=model, vgg=vgg, test_dataloader=test_loader, ground_truth=None,\n",
    "                                    config=config)\n",
    "\n",
    "    # Detection test\n",
    "    else:\n",
    "        _, test_dataloader = load_aioct()\n",
    "        print('after load dataset')\n",
    "        roc_auc = detection_test(model=model, vgg=vgg, test_dataloader=test_dataloader, config=config)\n",
    "        print('after cal roc_auc')\n",
    "    last_checkpoint = config['last_checkpoint']\n",
    "    print(\"RocAUC after {} epoch:\".format(last_checkpoint), roc_auc)\n"
   ]
  },
  {
   "cell_type": "code",
   "execution_count": 6,
   "metadata": {},
   "outputs": [
    {
     "name": "stdout",
     "output_type": "stream",
     "text": [
      "layer : 0 Conv2d(3, 16, kernel_size=(3, 3), stride=(1, 1), padding=(1, 1), bias=False)\n",
      "layer : 1 BatchNorm2d(16, eps=1e-05, momentum=0.1, affine=True, track_running_stats=True)\n",
      "layer : 2 ReLU(inplace=True)\n",
      "layer : 3 Conv2d(16, 16, kernel_size=(3, 3), stride=(1, 1), padding=(1, 1), bias=False)\n",
      "layer : 4 ReLU(inplace=True)\n",
      "layer : 5 MaxPool2d(kernel_size=2, stride=2, padding=0, dilation=1, ceil_mode=False)\n",
      "layer : 6 Conv2d(16, 16, kernel_size=(3, 3), stride=(1, 1), padding=(1, 1), bias=False)\n",
      "layer : 7 BatchNorm2d(16, eps=1e-05, momentum=0.1, affine=True, track_running_stats=True)\n",
      "layer : 8 ReLU(inplace=True)\n",
      "layer : 9 Conv2d(16, 128, kernel_size=(3, 3), stride=(1, 1), padding=(1, 1), bias=False)\n",
      "layer : 10 ReLU(inplace=True)\n",
      "layer : 11 MaxPool2d(kernel_size=2, stride=2, padding=0, dilation=1, ceil_mode=False)\n",
      "layer : 12 Conv2d(128, 16, kernel_size=(3, 3), stride=(1, 1), padding=(1, 1), bias=False)\n",
      "layer : 13 BatchNorm2d(16, eps=1e-05, momentum=0.1, affine=True, track_running_stats=True)\n",
      "layer : 14 ReLU(inplace=True)\n",
      "layer : 15 Conv2d(16, 16, kernel_size=(3, 3), stride=(1, 1), padding=(1, 1), bias=False)\n",
      "layer : 16 BatchNorm2d(16, eps=1e-05, momentum=0.1, affine=True, track_running_stats=True)\n",
      "layer : 17 ReLU(inplace=True)\n",
      "layer : 18 Conv2d(16, 256, kernel_size=(3, 3), stride=(1, 1), padding=(1, 1), bias=False)\n",
      "layer : 19 ReLU(inplace=True)\n",
      "layer : 20 MaxPool2d(kernel_size=2, stride=2, padding=0, dilation=1, ceil_mode=False)\n",
      "layer : 21 Conv2d(256, 16, kernel_size=(3, 3), stride=(1, 1), padding=(1, 1), bias=False)\n",
      "layer : 22 BatchNorm2d(16, eps=1e-05, momentum=0.1, affine=True, track_running_stats=True)\n",
      "layer : 23 ReLU(inplace=True)\n",
      "layer : 24 Conv2d(16, 16, kernel_size=(3, 3), stride=(1, 1), padding=(1, 1), bias=False)\n",
      "layer : 25 BatchNorm2d(16, eps=1e-05, momentum=0.1, affine=True, track_running_stats=True)\n",
      "layer : 26 ReLU(inplace=True)\n",
      "layer : 27 Conv2d(16, 512, kernel_size=(3, 3), stride=(1, 1), padding=(1, 1), bias=False)\n",
      "layer : 28 ReLU(inplace=True)\n",
      "layer : 29 MaxPool2d(kernel_size=2, stride=2, padding=0, dilation=1, ceil_mode=False)\n",
      "layer : 30 Conv2d(512, 16, kernel_size=(3, 3), stride=(1, 1), padding=(1, 1), bias=False)\n",
      "layer : 31 BatchNorm2d(16, eps=1e-05, momentum=0.1, affine=True, track_running_stats=True)\n",
      "layer : 32 ReLU(inplace=True)\n",
      "layer : 33 Conv2d(16, 16, kernel_size=(3, 3), stride=(1, 1), padding=(1, 1), bias=False)\n",
      "layer : 34 BatchNorm2d(16, eps=1e-05, momentum=0.1, affine=True, track_running_stats=True)\n",
      "layer : 35 ReLU(inplace=True)\n",
      "layer : 36 Conv2d(16, 512, kernel_size=(3, 3), stride=(1, 1), padding=(1, 1), bias=False)\n",
      "layer : 37 ReLU(inplace=True)\n",
      "layer : 38 MaxPool2d(kernel_size=2, stride=2, padding=0, dilation=1, ceil_mode=False)\n",
      "config[dataset_name] retina\n",
      "after load dataset\n",
      "after cal roc_auc\n",
      "RocAUC after 18 epoch: 0.7162\n"
     ]
    }
   ],
   "source": [
    "if __name__ == '__main__':\n",
    "    main()"
   ]
  },
  {
   "cell_type": "code",
   "execution_count": null,
   "metadata": {},
   "outputs": [],
   "source": [
    "\"/lustre/home/acct-eedxw/eedxw-user1/njq/Knowledge_Distillation_AD-main/outputs/new_task/retina/checkpoints/Auc_0_epoch_18.pickle\"\n",
    "'/lustre/home/acct-eedxw/eedxw-user1/njq/Knowledge_Distillation_AD-main/outputs/new_task/AIOCT/checkpoints/Cloner_0_epoch_18.pth'\n",
    "'/lustre/home/acct-eedxw/eedxw-user1/njq/Knowledge_Distillation_AD-main/outputs/new_task/AIOCT/checkpoints/Cloner_0_epoch_18.pth'\n",
    "'/lustre/home/acct-eedxw/eedxw-user1/njq/Knowledge_Distillation_AD-main/outputs/new_task/AIOCT/checkpoints/Cloner_0_epoch_18.pth'\n",
    "\"/lustre/home/acct-eedxw/eedxw-user1/njq/Knowledge_Distillation_AD-main/outputs/new_task/retina/checkpoints/Cloner_0_epoch_18.pth\"\n",
    "\"/lustre/home/acct-eedxw/eedxw-user1/njq/Knowledge_Distillation_AD-main/outputs/new_task/retina/checkpoints/Cloner_0_epoch_18.pth\""
   ]
  }
 ],
 "metadata": {
  "kernelspec": {
   "display_name": "u",
   "language": "python",
   "name": "u"
  },
  "language_info": {
   "codemirror_mode": {
    "name": "ipython",
    "version": 3
   },
   "file_extension": ".py",
   "mimetype": "text/x-python",
   "name": "python",
   "nbconvert_exporter": "python",
   "pygments_lexer": "ipython3",
   "version": "3.8.5"
  }
 },
 "nbformat": 4,
 "nbformat_minor": 4
}
